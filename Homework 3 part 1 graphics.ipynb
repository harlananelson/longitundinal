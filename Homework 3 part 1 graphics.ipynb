{
 "cells": [
  {
   "cell_type": "code",
   "execution_count": null,
   "metadata": {
    "collapsed": true
   },
   "outputs": [],
   "source": [
    "libname t \"/folders/myfolders/Teesta/data\";\n",
    "proc datasets library=t;\n",
    "run;"
   ]
  },
  {
   "cell_type": "code",
   "execution_count": null,
   "metadata": {
    "collapsed": true
   },
   "outputs": [],
   "source": [
    "proc contents data=t.TUMOR;\n",
    "run;"
   ]
  },
  {
   "cell_type": "code",
   "execution_count": null,
   "metadata": {
    "collapsed": true
   },
   "outputs": [],
   "source": [
    "proc sort data=t.TUMOR;\n",
    "    by treatment mouse day;\n",
    "run;"
   ]
  },
  {
   "cell_type": "code",
   "execution_count": null,
   "metadata": {
    "collapsed": true
   },
   "outputs": [],
   "source": [
    "proc print data=t.TUMOR(where=(mouse=1));\n",
    "run;"
   ]
  },
  {
   "cell_type": "code",
   "execution_count": null,
   "metadata": {
    "collapsed": true
   },
   "outputs": [],
   "source": [
    "proc tabulate data=t.TUMOR missing;\n",
    "    class trt;\n",
    "    tables trt all,n;\n",
    "run;"
   ]
  },
  {
   "cell_type": "code",
   "execution_count": null,
   "metadata": {
    "collapsed": true
   },
   "outputs": [],
   "source": [
    "proc tabulate data=t.TUMOR missing;\n",
    "    class day;\n",
    "    tables day all,n;\n",
    "run;"
   ]
  },
  {
   "cell_type": "code",
   "execution_count": null,
   "metadata": {
    "collapsed": true
   },
   "outputs": [],
   "source": [
    "proc tabulate data=t.TUMOR missing;\n",
    "    class mouse;\n",
    "    tables mouse all,n;\n",
    "run;"
   ]
  },
  {
   "cell_type": "code",
   "execution_count": null,
   "metadata": {
    "collapsed": true
   },
   "outputs": [],
   "source": [
    "roc sort data=t.TUMOR;\n",
    "    by mouse day;\n",
    "run;\n",
    "proc sgplot data=t.TUMOR;\n",
    "    series x=day y=pcntvol/group=mouse;\n",
    "run;\n"
   ]
  },
  {
   "cell_type": "code",
   "execution_count": null,
   "metadata": {
    "collapsed": true
   },
   "outputs": [],
   "source": [
    "proc sgpanel data=t.TUMOR;\n",
    "    panelby trt;\n",
    "    series x=day y=pcntvol/group=mouse;\n",
    "run;"
   ]
  },
  {
   "cell_type": "code",
   "execution_count": null,
   "metadata": {
    "collapsed": true
   },
   "outputs": [],
   "source": [
    "ods graphics on;\n",
    "proc sgpanel data=t.TUMOR;\n",
    "    panelby mouse;\n",
    "    series x=day y=pcntvol/group=trt;\n",
    "run;\n",
    "ods graphics off;"
   ]
  },
  {
   "cell_type": "code",
   "execution_count": null,
   "metadata": {
    "collapsed": true
   },
   "outputs": [],
   "source": [
    "ods graphics on;\n",
    "proc gee data=t.TUMOR plots=all;\n",
    "    class mouse trt(ref='Taxol 10') day;\n",
    "    model pcntvol = trt day trt*day;\n",
    "    repeated subject=mouse /type=exch covb corrw modelse;\n",
    "    effectplot contour;\n",
    "    effectplot box;\n",
    "    effectplot fit;\n",
    "    effectplot interaction;\n",
    "    effectplot mosaic;\n",
    "    effectplot slicefit;\n",
    "    lsmeans trt*day;\n",
    "    lsmestimate day 'day' 0 -1 0 0 0 0 0 0 0 0 0 0 0 0 0.33 0 0 0 0 0.33 0 0 0 0 0 0 0 0.34;\n",
    "    lsmestimate day 'day  2 and 15' 0 -1 0 0 0 0 0 0 0 0 0 0 0 0  1 0 0 0 0  0 0 0 0 0 0 0 0 0;\n",
    "    lsmestimate day 'day  2 and 20' 0 -1 0 0 0 0 0 0 0 0 0 0 0 0  0 0 0 0 0  1 0 0 0 0 0 0 0 0;\n",
    "    lsmestimate day 'day  2 and 28' 0 -1 0 0 0 0 0 0 0 0 0 0 0 0  0 0 0 0 0  0 0 0 0 0 0 0 0 1;\n",
    "    lsmestimate day 'day 15 and 20' 0  0 0 0 0 0 0 0 0 0 0 0 0 0 -1 0 0 0 0  1 0 0 0 0 0 0 0 0;\n",
    "    lsmestimate day 'day 15 and 28' 0  0 0 0 0 0 0 0 0 0 0 0 0 0 -1 0 0 0 0  0 0 0 0 0 0 0 0 1;\n",
    "    lsmestimate day 'day 20 and 28' 0  0 0 0 0 0 0 0 0 0 0 0 0 0  0 0 0 0 0 -1 0 0 0 0 0 0 0 1;\n",
    "    lsmestimate day 'day 20 & 28 p' [-1,20] [1,28];\n",
    "    lsmestimate trt*day \"trt*day day 2 vrs 15\" [-1,1 2] [-1,2 2] [-1,3 2] [1,1 15] [1,2 15] [1,3 15] /E divisor=3;\n",
    "    lsmestimate trt*day \"trt*day day 2 vrs 20\" [-1,1 2] [-1,2 2] [-1,3 2] [1,1 20] [1,2 20] [1,3 20] /E divisor=3;\n",
    "    lsmestimate trt*day \"trt*day day 2 vrs 20\" \n",
    "                                               [-1,1 2] [-1,2 2] [-1,3 2] [1,1 15] [1,2 15] [1,3 15],\n",
    "                                               [-1,1 2] [-1,2 2] [-1,3 2] [1,1 20] [1,2 20] [1,3 20],\n",
    "                                               [-1,1 2] [-1,2 2] [-1,3 2] [1,1 28] [1,2 28] [1,3 28],\n",
    "                                               \n",
    "                                               [-1,1 2] [-1,2 2] [-1,3 2] [1,1 15] [1,2 15] [1,3 15],\n",
    "                                               [-1,1 15] [-1,2 15] [-1,3 15] [1,1 20] [1,2 20] [1,3 20],\n",
    "                                               [-1,1 15] [-1,2 15] [-1,3 15] [1,1 28] [1,2 28] [1,3 28],\n",
    "                                               \n",
    "                                               [-1,1 20] [-1,2 20] [-1,3 20] [1,1 28] [1,2 28] [1,3 28]\n",
    "    /E divisor=3 joint;\n",
    "run;\n",
    "ods graphics off;"
   ]
  },
  {
   "cell_type": "code",
   "execution_count": null,
   "metadata": {
    "collapsed": true
   },
   "outputs": [],
   "source": [
    "proc nlmixed data=t.TUMOR;\n",
    "     pred = b0 + u + b1*(trt='Taxol 10') + b2*(trt='vehicle') + b3*(trt='TPA 50') + b4*(trt='TPA + Taxol');\n",
    "     model pcntvol ~ normal(pred,s2);\n",
    "     random u ~ normal(0,s2u) subject=mouse;\n",
    "run;"
   ]
  },
  {
   "cell_type": "code",
   "execution_count": null,
   "metadata": {
    "collapsed": true
   },
   "outputs": [],
   "source": [
    "proc nlmixed data=t.TUMOR;\n",
    "     pred = b0 + u + b1*(trt='Taxol 10') + b2*(trt='vehicle') + b3*(trt='TPA 50') + b4*(trt='TPA + Taxol');\n",
    "     q = log(pcntvol);\n",
    "     model q ~ normal(pred,s2);\n",
    "     random u ~ normal(0,s2u) subject=mouse;\n",
    "run;"
   ]
  },
  {
   "cell_type": "code",
   "execution_count": null,
   "metadata": {
    "collapsed": true
   },
   "outputs": [],
   "source": [
    "proc gee data=t.TUMOR plots=all;\n",
    "    class mouse trt(ref='Taxol 10') day;\n",
    "    model pcntvol = trt day trt*day;\n",
    "    repeated subject=mouse(trt) /type=exch covb corrw modelse within=day ;\n",
    "    \n",
    "run;"
   ]
  }
 ],
 "metadata": {
  "kernelspec": {
   "display_name": "SAS",
   "language": "sas",
   "name": "sas"
  },
  "language_info": {
   "codemirror_mode": "sas",
   "file_extension": ".sas",
   "mimetype": "text/x-sas",
   "name": "sas"
  }
 },
 "nbformat": 4,
 "nbformat_minor": 0
}
